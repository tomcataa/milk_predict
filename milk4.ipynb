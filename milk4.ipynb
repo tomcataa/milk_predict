{
 "cells": [
  {
   "cell_type": "code",
   "execution_count": 1,
   "metadata": {},
   "outputs": [],
   "source": [
    "import time\n",
    "from datetime import datetime\n",
    "import pandas as pd\n",
    "import numpy as np\n",
    "pd.set_option(\"display.max_columns\", 100)"
   ]
  },
  {
   "cell_type": "code",
   "execution_count": 2,
   "metadata": {},
   "outputs": [
    {
     "data": {
      "text/html": [
       "<div>\n",
       "<style scoped>\n",
       "    .dataframe tbody tr th:only-of-type {\n",
       "        vertical-align: middle;\n",
       "    }\n",
       "\n",
       "    .dataframe tbody tr th {\n",
       "        vertical-align: top;\n",
       "    }\n",
       "\n",
       "    .dataframe thead th {\n",
       "        text-align: right;\n",
       "    }\n",
       "</style>\n",
       "<table border=\"1\" class=\"dataframe\">\n",
       "  <thead>\n",
       "    <tr style=\"text-align: right;\">\n",
       "      <th></th>\n",
       "      <th>row_id</th>\n",
       "      <th>year</th>\n",
       "      <th>month</th>\n",
       "      <th>field</th>\n",
       "      <th>id</th>\n",
       "      <th>father_id</th>\n",
       "      <th>mother_id</th>\n",
       "      <th>birthday</th>\n",
       "      <th>胎次</th>\n",
       "      <th>泌乳天數</th>\n",
       "      <th>volume</th>\n",
       "      <th>最近分娩日期</th>\n",
       "      <th>採樣日期</th>\n",
       "      <th>月齡</th>\n",
       "      <th>檢測日期</th>\n",
       "      <th>最後配種日期</th>\n",
       "      <th>最後配種精液</th>\n",
       "      <th>配種次數</th>\n",
       "      <th>前次分娩日期</th>\n",
       "      <th>第一次配種日期</th>\n",
       "      <th>第一次配種精液</th>\n",
       "    </tr>\n",
       "  </thead>\n",
       "  <tbody>\n",
       "    <tr>\n",
       "      <th>0</th>\n",
       "      <td>1</td>\n",
       "      <td>2013</td>\n",
       "      <td>3</td>\n",
       "      <td>A</td>\n",
       "      <td>52612</td>\n",
       "      <td>507H7173</td>\n",
       "      <td>96040545</td>\n",
       "      <td>2011/1/1 00:00</td>\n",
       "      <td>1</td>\n",
       "      <td>78.0</td>\n",
       "      <td>29.4</td>\n",
       "      <td>2013/1/1 00:00</td>\n",
       "      <td>2013/3/20 00:00</td>\n",
       "      <td>26</td>\n",
       "      <td>2013/3/21 00:00</td>\n",
       "      <td>2015/5/5 00:00</td>\n",
       "      <td>507H11621</td>\n",
       "      <td>1</td>\n",
       "      <td>NaN</td>\n",
       "      <td>2013/3/5 00:00</td>\n",
       "      <td>501H8784</td>\n",
       "    </tr>\n",
       "    <tr>\n",
       "      <th>1</th>\n",
       "      <td>2</td>\n",
       "      <td>2013</td>\n",
       "      <td>4</td>\n",
       "      <td>A</td>\n",
       "      <td>52612</td>\n",
       "      <td>507H7173</td>\n",
       "      <td>96040545</td>\n",
       "      <td>2011/1/1 00:00</td>\n",
       "      <td>1</td>\n",
       "      <td>107.0</td>\n",
       "      <td>27.8</td>\n",
       "      <td>2013/1/1 00:00</td>\n",
       "      <td>2013/4/18 00:00</td>\n",
       "      <td>27</td>\n",
       "      <td>2013/4/19 00:00</td>\n",
       "      <td>2015/5/5 00:00</td>\n",
       "      <td>507H11621</td>\n",
       "      <td>1</td>\n",
       "      <td>NaN</td>\n",
       "      <td>2013/3/5 00:00</td>\n",
       "      <td>501H8784</td>\n",
       "    </tr>\n",
       "    <tr>\n",
       "      <th>2</th>\n",
       "      <td>3</td>\n",
       "      <td>2013</td>\n",
       "      <td>5</td>\n",
       "      <td>A</td>\n",
       "      <td>52612</td>\n",
       "      <td>507H7173</td>\n",
       "      <td>96040545</td>\n",
       "      <td>2011/1/1 00:00</td>\n",
       "      <td>1</td>\n",
       "      <td>140.0</td>\n",
       "      <td>9.0</td>\n",
       "      <td>2013/1/1 00:00</td>\n",
       "      <td>2013/5/21 00:00</td>\n",
       "      <td>28</td>\n",
       "      <td>2013/5/22 00:00</td>\n",
       "      <td>2015/5/5 00:00</td>\n",
       "      <td>507H11621</td>\n",
       "      <td>2</td>\n",
       "      <td>NaN</td>\n",
       "      <td>2013/3/5 00:00</td>\n",
       "      <td>501H8784</td>\n",
       "    </tr>\n",
       "    <tr>\n",
       "      <th>3</th>\n",
       "      <td>4</td>\n",
       "      <td>2013</td>\n",
       "      <td>6</td>\n",
       "      <td>A</td>\n",
       "      <td>52612</td>\n",
       "      <td>507H7173</td>\n",
       "      <td>96040545</td>\n",
       "      <td>2011/1/1 00:00</td>\n",
       "      <td>1</td>\n",
       "      <td>175.0</td>\n",
       "      <td>13.0</td>\n",
       "      <td>2013/1/1 00:00</td>\n",
       "      <td>2013/6/25 00:00</td>\n",
       "      <td>29</td>\n",
       "      <td>2013/6/26 00:00</td>\n",
       "      <td>2015/5/5 00:00</td>\n",
       "      <td>507H11621</td>\n",
       "      <td>2</td>\n",
       "      <td>NaN</td>\n",
       "      <td>2013/3/5 00:00</td>\n",
       "      <td>501H8784</td>\n",
       "    </tr>\n",
       "    <tr>\n",
       "      <th>4</th>\n",
       "      <td>5</td>\n",
       "      <td>2013</td>\n",
       "      <td>7</td>\n",
       "      <td>A</td>\n",
       "      <td>52612</td>\n",
       "      <td>507H7173</td>\n",
       "      <td>96040545</td>\n",
       "      <td>2011/1/1 00:00</td>\n",
       "      <td>1</td>\n",
       "      <td>210.0</td>\n",
       "      <td>13.2</td>\n",
       "      <td>2013/1/1 00:00</td>\n",
       "      <td>2013/7/30 00:00</td>\n",
       "      <td>30</td>\n",
       "      <td>2013/7/31 00:00</td>\n",
       "      <td>2015/5/5 00:00</td>\n",
       "      <td>507H11621</td>\n",
       "      <td>2</td>\n",
       "      <td>NaN</td>\n",
       "      <td>2013/3/5 00:00</td>\n",
       "      <td>501H8784</td>\n",
       "    </tr>\n",
       "  </tbody>\n",
       "</table>\n",
       "</div>"
      ],
      "text/plain": [
       "   row_id  year  month field     id father_id mother_id        birthday  胎次  \\\n",
       "0       1  2013      3     A  52612  507H7173  96040545  2011/1/1 00:00   1   \n",
       "1       2  2013      4     A  52612  507H7173  96040545  2011/1/1 00:00   1   \n",
       "2       3  2013      5     A  52612  507H7173  96040545  2011/1/1 00:00   1   \n",
       "3       4  2013      6     A  52612  507H7173  96040545  2011/1/1 00:00   1   \n",
       "4       5  2013      7     A  52612  507H7173  96040545  2011/1/1 00:00   1   \n",
       "\n",
       "    泌乳天數  volume          最近分娩日期             採樣日期  月齡             檢測日期  \\\n",
       "0   78.0    29.4  2013/1/1 00:00  2013/3/20 00:00  26  2013/3/21 00:00   \n",
       "1  107.0    27.8  2013/1/1 00:00  2013/4/18 00:00  27  2013/4/19 00:00   \n",
       "2  140.0     9.0  2013/1/1 00:00  2013/5/21 00:00  28  2013/5/22 00:00   \n",
       "3  175.0    13.0  2013/1/1 00:00  2013/6/25 00:00  29  2013/6/26 00:00   \n",
       "4  210.0    13.2  2013/1/1 00:00  2013/7/30 00:00  30  2013/7/31 00:00   \n",
       "\n",
       "           最後配種日期     最後配種精液  配種次數 前次分娩日期         第一次配種日期   第一次配種精液  \n",
       "0  2015/5/5 00:00  507H11621     1    NaN  2013/3/5 00:00  501H8784  \n",
       "1  2015/5/5 00:00  507H11621     1    NaN  2013/3/5 00:00  501H8784  \n",
       "2  2015/5/5 00:00  507H11621     2    NaN  2013/3/5 00:00  501H8784  \n",
       "3  2015/5/5 00:00  507H11621     2    NaN  2013/3/5 00:00  501H8784  \n",
       "4  2015/5/5 00:00  507H11621     2    NaN  2013/3/5 00:00  501H8784  "
      ]
     },
     "execution_count": 2,
     "metadata": {},
     "output_type": "execute_result"
    }
   ],
   "source": [
    "df_report = pd.read_csv(\"data/report.csv\", dtype={\"6\": str, \"7\": str})\n",
    "df_report.rename(\n",
    "    columns={\n",
    "        \"1\": \"row_id\",\n",
    "        \"2\": \"year\",\n",
    "        \"3\": \"month\",\n",
    "        \"4\": \"field\",\n",
    "        \"5\": \"id\",\n",
    "        \"6\": \"father_id\",\n",
    "        \"7\": \"mother_id\",\n",
    "        \"8\": \"birthday\",\n",
    "        \"9\": \"胎次\",\n",
    "        \"10\": \"泌乳天數\",\n",
    "        \"11\": \"volume\",\n",
    "        \"12\": \"最近分娩日期\",\n",
    "        \"13\": \"採樣日期\",\n",
    "        \"14\": \"月齡\",\n",
    "        \"15\": \"檢測日期\",\n",
    "        \"16\": \"最後配種日期\",\n",
    "        \"17\": \"最後配種精液\",\n",
    "        \"18\": \"配種次數\",\n",
    "        \"19\": \"前次分娩日期\",\n",
    "        \"20\": \"第一次配種日期\",\n",
    "        \"21\": \"第一次配種精液\",\n",
    "    },\n",
    "    inplace=True\n",
    ")\n",
    "df_report.head()"
   ]
  },
  {
   "cell_type": "code",
   "execution_count": 3,
   "metadata": {},
   "outputs": [
    {
     "data": {
      "text/html": [
       "<div>\n",
       "<style scoped>\n",
       "    .dataframe tbody tr th:only-of-type {\n",
       "        vertical-align: middle;\n",
       "    }\n",
       "\n",
       "    .dataframe tbody tr th {\n",
       "        vertical-align: top;\n",
       "    }\n",
       "\n",
       "    .dataframe thead th {\n",
       "        text-align: right;\n",
       "    }\n",
       "</style>\n",
       "<table border=\"1\" class=\"dataframe\">\n",
       "  <thead>\n",
       "    <tr style=\"text-align: right;\">\n",
       "      <th></th>\n",
       "      <th>id</th>\n",
       "      <th>狀況類別</th>\n",
       "      <th>狀況代號</th>\n",
       "      <th>狀況日期</th>\n",
       "      <th>備註</th>\n",
       "      <th>登錄日期</th>\n",
       "      <th>field</th>\n",
       "      <th>year</th>\n",
       "      <th>month</th>\n",
       "      <th>type</th>\n",
       "    </tr>\n",
       "  </thead>\n",
       "  <tbody>\n",
       "    <tr>\n",
       "      <th>0</th>\n",
       "      <td>5022341</td>\n",
       "      <td>N</td>\n",
       "      <td></td>\n",
       "      <td>1999-08-24</td>\n",
       "      <td>NaN</td>\n",
       "      <td>NaN</td>\n",
       "      <td>A</td>\n",
       "      <td>1999</td>\n",
       "      <td>8</td>\n",
       "      <td>N-</td>\n",
       "    </tr>\n",
       "    <tr>\n",
       "      <th>1</th>\n",
       "      <td>5022362</td>\n",
       "      <td>N</td>\n",
       "      <td></td>\n",
       "      <td>1999-08-24</td>\n",
       "      <td>NaN</td>\n",
       "      <td>NaN</td>\n",
       "      <td>A</td>\n",
       "      <td>1999</td>\n",
       "      <td>8</td>\n",
       "      <td>N-</td>\n",
       "    </tr>\n",
       "    <tr>\n",
       "      <th>2</th>\n",
       "      <td>5022365</td>\n",
       "      <td>N</td>\n",
       "      <td></td>\n",
       "      <td>1999-08-24</td>\n",
       "      <td>NaN</td>\n",
       "      <td>NaN</td>\n",
       "      <td>A</td>\n",
       "      <td>1999</td>\n",
       "      <td>8</td>\n",
       "      <td>N-</td>\n",
       "    </tr>\n",
       "    <tr>\n",
       "      <th>3</th>\n",
       "      <td>5022372</td>\n",
       "      <td>N</td>\n",
       "      <td></td>\n",
       "      <td>1999-08-24</td>\n",
       "      <td>NaN</td>\n",
       "      <td>NaN</td>\n",
       "      <td>A</td>\n",
       "      <td>1999</td>\n",
       "      <td>8</td>\n",
       "      <td>N-</td>\n",
       "    </tr>\n",
       "    <tr>\n",
       "      <th>4</th>\n",
       "      <td>5022373</td>\n",
       "      <td>N</td>\n",
       "      <td></td>\n",
       "      <td>1999-08-24</td>\n",
       "      <td>NaN</td>\n",
       "      <td>NaN</td>\n",
       "      <td>A</td>\n",
       "      <td>1999</td>\n",
       "      <td>8</td>\n",
       "      <td>N-</td>\n",
       "    </tr>\n",
       "  </tbody>\n",
       "</table>\n",
       "</div>"
      ],
      "text/plain": [
       "        id 狀況類別 狀況代號       狀況日期   備註 登錄日期 field  year  month type\n",
       "0  5022341    N      1999-08-24  NaN  NaN     A  1999      8   N-\n",
       "1  5022362    N      1999-08-24  NaN  NaN     A  1999      8   N-\n",
       "2  5022365    N      1999-08-24  NaN  NaN     A  1999      8   N-\n",
       "3  5022372    N      1999-08-24  NaN  NaN     A  1999      8   N-\n",
       "4  5022373    N      1999-08-24  NaN  NaN     A  1999      8   N-"
      ]
     },
     "execution_count": 3,
     "metadata": {},
     "output_type": "execute_result"
    }
   ],
   "source": [
    "df_spec = pd.read_csv(\"data/spec.csv\")\n",
    "df_spec.rename(\n",
    "    columns={\n",
    "        \"1\": \"id\",\n",
    "        \"2\": \"狀況類別\",\n",
    "        \"3\": \"狀況代號\",\n",
    "        \"4\": \"狀況日期\",\n",
    "        \"5\": \"備註\",\n",
    "        \"6\": \"登錄日期\",\n",
    "        \"7\": \"field\",\n",
    "    },\n",
    "    inplace=True\n",
    ")\n",
    "df_spec[\"狀況日期\"] = df_spec[\"狀況日期\"].map(lambda s: datetime.strptime(s, \"%Y/%m/%d %H:%M\"))\n",
    "df_spec[\"year\"] = df_spec[\"狀況日期\"].map(lambda s: s.year)\n",
    "df_spec[\"month\"] = df_spec[\"狀況日期\"].map(lambda s: s.month)\n",
    "df_spec[\"狀況代號\"].fillna(value=\"\", inplace=True)\n",
    "df_spec[\"type\"] = df_spec.apply(lambda r: \"{}-{}\".format(r[\"狀況類別\"], r[\"狀況代號\"]), axis=1)\n",
    "df_spec.head()"
   ]
  },
  {
   "cell_type": "code",
   "execution_count": 4,
   "metadata": {},
   "outputs": [
    {
     "data": {
      "text/html": [
       "<div>\n",
       "<style scoped>\n",
       "    .dataframe tbody tr th:only-of-type {\n",
       "        vertical-align: middle;\n",
       "    }\n",
       "\n",
       "    .dataframe tbody tr th {\n",
       "        vertical-align: top;\n",
       "    }\n",
       "\n",
       "    .dataframe thead th {\n",
       "        text-align: right;\n",
       "    }\n",
       "</style>\n",
       "<table border=\"1\" class=\"dataframe\">\n",
       "  <thead>\n",
       "    <tr style=\"text-align: right;\">\n",
       "      <th></th>\n",
       "      <th>id</th>\n",
       "      <th>分娩日期</th>\n",
       "      <th>乾乳日期</th>\n",
       "      <th>犢牛編號1</th>\n",
       "      <th>犢牛編號2</th>\n",
       "      <th>母牛體重</th>\n",
       "      <th>登錄日期</th>\n",
       "      <th>計算胎次</th>\n",
       "      <th>胎次</th>\n",
       "      <th>分娩難易度</th>\n",
       "      <th>犢牛體型</th>\n",
       "      <th>犢牛性別</th>\n",
       "      <th>field</th>\n",
       "      <th>乾乳年</th>\n",
       "      <th>乾乳月</th>\n",
       "    </tr>\n",
       "  </thead>\n",
       "  <tbody>\n",
       "    <tr>\n",
       "      <th>0</th>\n",
       "      <td>87121677</td>\n",
       "      <td>2013/1/4 00:00</td>\n",
       "      <td>NaT</td>\n",
       "      <td>NaN</td>\n",
       "      <td>NaN</td>\n",
       "      <td>NaN</td>\n",
       "      <td>2013/1/25 00:00</td>\n",
       "      <td>True</td>\n",
       "      <td>2</td>\n",
       "      <td>1.0</td>\n",
       "      <td>NaN</td>\n",
       "      <td>NaN</td>\n",
       "      <td>B</td>\n",
       "      <td>2000</td>\n",
       "      <td>1</td>\n",
       "    </tr>\n",
       "    <tr>\n",
       "      <th>1</th>\n",
       "      <td>96126940</td>\n",
       "      <td>2013/1/2 00:00</td>\n",
       "      <td>NaT</td>\n",
       "      <td>NaN</td>\n",
       "      <td>NaN</td>\n",
       "      <td>522.0</td>\n",
       "      <td>2013/1/25 00:00</td>\n",
       "      <td>True</td>\n",
       "      <td>2</td>\n",
       "      <td>2.0</td>\n",
       "      <td>NaN</td>\n",
       "      <td>NaN</td>\n",
       "      <td>B</td>\n",
       "      <td>2000</td>\n",
       "      <td>1</td>\n",
       "    </tr>\n",
       "    <tr>\n",
       "      <th>2</th>\n",
       "      <td>95181708</td>\n",
       "      <td>2013/1/14 00:00</td>\n",
       "      <td>2014-01-03</td>\n",
       "      <td>2188113</td>\n",
       "      <td>NaN</td>\n",
       "      <td>670.0</td>\n",
       "      <td>2013/1/25 00:00</td>\n",
       "      <td>True</td>\n",
       "      <td>5</td>\n",
       "      <td>1.0</td>\n",
       "      <td>NaN</td>\n",
       "      <td>NaN</td>\n",
       "      <td>C</td>\n",
       "      <td>2014</td>\n",
       "      <td>1</td>\n",
       "    </tr>\n",
       "    <tr>\n",
       "      <th>3</th>\n",
       "      <td>97127665</td>\n",
       "      <td>2013/1/9 00:00</td>\n",
       "      <td>2014-03-12</td>\n",
       "      <td>NaN</td>\n",
       "      <td>NaN</td>\n",
       "      <td>NaN</td>\n",
       "      <td>2013/1/25 00:00</td>\n",
       "      <td>True</td>\n",
       "      <td>3</td>\n",
       "      <td>2.0</td>\n",
       "      <td>NaN</td>\n",
       "      <td>NaN</td>\n",
       "      <td>B</td>\n",
       "      <td>2014</td>\n",
       "      <td>3</td>\n",
       "    </tr>\n",
       "    <tr>\n",
       "      <th>4</th>\n",
       "      <td>97182634</td>\n",
       "      <td>2013/1/9 00:00</td>\n",
       "      <td>2014-03-25</td>\n",
       "      <td>NaN</td>\n",
       "      <td>NaN</td>\n",
       "      <td>630.0</td>\n",
       "      <td>2013/1/25 00:00</td>\n",
       "      <td>True</td>\n",
       "      <td>4</td>\n",
       "      <td>1.0</td>\n",
       "      <td>NaN</td>\n",
       "      <td>NaN</td>\n",
       "      <td>C</td>\n",
       "      <td>2014</td>\n",
       "      <td>3</td>\n",
       "    </tr>\n",
       "  </tbody>\n",
       "</table>\n",
       "</div>"
      ],
      "text/plain": [
       "         id             分娩日期       乾乳日期    犢牛編號1 犢牛編號2   母牛體重  \\\n",
       "0  87121677   2013/1/4 00:00        NaT      NaN   NaN    NaN   \n",
       "1  96126940   2013/1/2 00:00        NaT      NaN   NaN  522.0   \n",
       "2  95181708  2013/1/14 00:00 2014-01-03  2188113   NaN  670.0   \n",
       "3  97127665   2013/1/9 00:00 2014-03-12      NaN   NaN    NaN   \n",
       "4  97182634   2013/1/9 00:00 2014-03-25      NaN   NaN  630.0   \n",
       "\n",
       "              登錄日期  計算胎次  胎次  分娩難易度 犢牛體型 犢牛性別 field   乾乳年  乾乳月  \n",
       "0  2013/1/25 00:00  True   2    1.0  NaN  NaN     B  2000    1  \n",
       "1  2013/1/25 00:00  True   2    2.0  NaN  NaN     B  2000    1  \n",
       "2  2013/1/25 00:00  True   5    1.0  NaN  NaN     C  2014    1  \n",
       "3  2013/1/25 00:00  True   3    2.0  NaN  NaN     B  2014    3  \n",
       "4  2013/1/25 00:00  True   4    1.0  NaN  NaN     C  2014    3  "
      ]
     },
     "execution_count": 4,
     "metadata": {},
     "output_type": "execute_result"
    }
   ],
   "source": [
    "df_birth = pd.read_csv(\"data/birth.csv\")\n",
    "df_birth.rename(\n",
    "    columns={\n",
    "        \"1\": \"id\",\n",
    "        \"2\": \"分娩日期\",\n",
    "        \"3\": \"乾乳日期\",\n",
    "        \"4\": \"犢牛編號1\",\n",
    "        \"5\": \"犢牛編號2\",\n",
    "        \"6\": \"母牛體重\",\n",
    "        \"7\": \"登錄日期\",\n",
    "        \"8\": \"計算胎次\",\n",
    "        \"9\": \"胎次\",\n",
    "        \"10\": \"分娩難易度\",\n",
    "        \"11\": \"犢牛體型\",\n",
    "        \"12\": \"犢牛性別\",\n",
    "        \"13\": \"field\",\n",
    "    },\n",
    "    inplace=True\n",
    ")\n",
    "df_birth[\"乾乳日期\"] = df_birth[\"乾乳日期\"].map(lambda s: None if pd.isnull(s) else datetime.strptime(s, \"%Y/%m/%d %H:%M\"))\n",
    "df_birth[\"乾乳年\"] = df_birth[\"乾乳日期\"].map(lambda s: 2000 if pd.isnull(s) else s.year)\n",
    "df_birth[\"乾乳月\"] = df_birth[\"乾乳日期\"].map(lambda s: 1 if pd.isnull(s) else s.month)\n",
    "df_birth.head()"
   ]
  },
  {
   "cell_type": "code",
   "execution_count": 5,
   "metadata": {},
   "outputs": [
    {
     "data": {
      "text/html": [
       "<div>\n",
       "<style scoped>\n",
       "    .dataframe tbody tr th:only-of-type {\n",
       "        vertical-align: middle;\n",
       "    }\n",
       "\n",
       "    .dataframe tbody tr th {\n",
       "        vertical-align: top;\n",
       "    }\n",
       "\n",
       "    .dataframe thead th {\n",
       "        text-align: right;\n",
       "    }\n",
       "</style>\n",
       "<table border=\"1\" class=\"dataframe\">\n",
       "  <thead>\n",
       "    <tr style=\"text-align: right;\">\n",
       "      <th></th>\n",
       "      <th>id</th>\n",
       "      <th>配種日期</th>\n",
       "      <th>配種精液</th>\n",
       "      <th>登錄日期</th>\n",
       "      <th>孕檢</th>\n",
       "      <th>配種方式</th>\n",
       "      <th>精液種類</th>\n",
       "      <th>酪農場代號</th>\n",
       "    </tr>\n",
       "  </thead>\n",
       "  <tbody>\n",
       "    <tr>\n",
       "      <th>0</th>\n",
       "      <td>11361</td>\n",
       "      <td>2005/9/2 00:00</td>\n",
       "      <td>1H5506</td>\n",
       "      <td>2005/9/28 00:00</td>\n",
       "      <td>0</td>\n",
       "      <td>NaN</td>\n",
       "      <td>NaN</td>\n",
       "      <td>A</td>\n",
       "    </tr>\n",
       "    <tr>\n",
       "      <th>1</th>\n",
       "      <td>11469</td>\n",
       "      <td>2000/1/17 00:00</td>\n",
       "      <td>72H896</td>\n",
       "      <td>2000/1/31 00:00</td>\n",
       "      <td>0</td>\n",
       "      <td>NaN</td>\n",
       "      <td>NaN</td>\n",
       "      <td>A</td>\n",
       "    </tr>\n",
       "    <tr>\n",
       "      <th>2</th>\n",
       "      <td>11930</td>\n",
       "      <td>2000/5/12 00:00</td>\n",
       "      <td>9H2164</td>\n",
       "      <td>2000/5/22 00:00</td>\n",
       "      <td>0</td>\n",
       "      <td>NaN</td>\n",
       "      <td>NaN</td>\n",
       "      <td>A</td>\n",
       "    </tr>\n",
       "    <tr>\n",
       "      <th>3</th>\n",
       "      <td>11930</td>\n",
       "      <td>2000/5/26 00:00</td>\n",
       "      <td>1H2993</td>\n",
       "      <td>2000/7/6 00:00</td>\n",
       "      <td>0</td>\n",
       "      <td>NaN</td>\n",
       "      <td>NaN</td>\n",
       "      <td>A</td>\n",
       "    </tr>\n",
       "    <tr>\n",
       "      <th>4</th>\n",
       "      <td>11930</td>\n",
       "      <td>2000/7/4 00:00</td>\n",
       "      <td>14H2403</td>\n",
       "      <td>1988/7/29 00:00</td>\n",
       "      <td>0</td>\n",
       "      <td>NaN</td>\n",
       "      <td>NaN</td>\n",
       "      <td>A</td>\n",
       "    </tr>\n",
       "  </tbody>\n",
       "</table>\n",
       "</div>"
      ],
      "text/plain": [
       "      id             配種日期     配種精液             登錄日期  孕檢 配種方式 精液種類 酪農場代號\n",
       "0  11361   2005/9/2 00:00   1H5506  2005/9/28 00:00   0  NaN  NaN     A\n",
       "1  11469  2000/1/17 00:00   72H896  2000/1/31 00:00   0  NaN  NaN     A\n",
       "2  11930  2000/5/12 00:00   9H2164  2000/5/22 00:00   0  NaN  NaN     A\n",
       "3  11930  2000/5/26 00:00   1H2993   2000/7/6 00:00   0  NaN  NaN     A\n",
       "4  11930   2000/7/4 00:00  14H2403  1988/7/29 00:00   0  NaN  NaN     A"
      ]
     },
     "execution_count": 5,
     "metadata": {},
     "output_type": "execute_result"
    }
   ],
   "source": [
    "df_breed = pd.read_csv(\"data/breed.csv\")\n",
    "df_breed.columns = [\"id\", \"配種日期\", \"配種精液\", \"登錄日期\", \"孕檢\", \"配種方式\", \"精液種類\", \"酪農場代號\"]\n",
    "df_breed.head()"
   ]
  },
  {
   "cell_type": "code",
   "execution_count": 6,
   "metadata": {},
   "outputs": [
    {
     "data": {
      "text/html": [
       "<div>\n",
       "<style scoped>\n",
       "    .dataframe tbody tr th:only-of-type {\n",
       "        vertical-align: middle;\n",
       "    }\n",
       "\n",
       "    .dataframe tbody tr th {\n",
       "        vertical-align: top;\n",
       "    }\n",
       "\n",
       "    .dataframe thead th {\n",
       "        text-align: right;\n",
       "    }\n",
       "</style>\n",
       "<table border=\"1\" class=\"dataframe\">\n",
       "  <thead>\n",
       "    <tr style=\"text-align: right;\">\n",
       "      <th></th>\n",
       "      <th>ID</th>\n",
       "      <th>1</th>\n",
       "    </tr>\n",
       "  </thead>\n",
       "  <tbody>\n",
       "    <tr>\n",
       "      <th>0</th>\n",
       "      <td>480</td>\n",
       "      <td>NaN</td>\n",
       "    </tr>\n",
       "    <tr>\n",
       "      <th>1</th>\n",
       "      <td>742</td>\n",
       "      <td>NaN</td>\n",
       "    </tr>\n",
       "    <tr>\n",
       "      <th>2</th>\n",
       "      <td>743</td>\n",
       "      <td>NaN</td>\n",
       "    </tr>\n",
       "    <tr>\n",
       "      <th>3</th>\n",
       "      <td>744</td>\n",
       "      <td>NaN</td>\n",
       "    </tr>\n",
       "    <tr>\n",
       "      <th>4</th>\n",
       "      <td>745</td>\n",
       "      <td>NaN</td>\n",
       "    </tr>\n",
       "  </tbody>\n",
       "</table>\n",
       "</div>"
      ],
      "text/plain": [
       "    ID   1\n",
       "0  480 NaN\n",
       "1  742 NaN\n",
       "2  743 NaN\n",
       "3  744 NaN\n",
       "4  745 NaN"
      ]
     },
     "execution_count": 6,
     "metadata": {},
     "output_type": "execute_result"
    }
   ],
   "source": [
    "df_submit = pd.read_csv(\"data/submission.csv\")\n",
    "df_submit.head()"
   ]
  },
  {
   "cell_type": "markdown",
   "metadata": {},
   "source": [
    "#### 測試集 == df_submit"
   ]
  },
  {
   "cell_type": "code",
   "execution_count": 7,
   "metadata": {},
   "outputs": [
    {
     "data": {
      "text/plain": [
       "True"
      ]
     },
     "execution_count": 7,
     "metadata": {},
     "output_type": "execute_result"
    }
   ],
   "source": [
    "all(df_report[df_report[\"volume\"].isnull()][\"row_id\"].values == df_submit[\"ID\"].values)"
   ]
  },
  {
   "cell_type": "code",
   "execution_count": 8,
   "metadata": {},
   "outputs": [
    {
     "data": {
      "text/plain": [
       "id          0\n",
       "分娩日期        0\n",
       "乾乳日期     1637\n",
       "犢牛編號1    2907\n",
       "犢牛編號2    3753\n",
       "母牛體重     3051\n",
       "登錄日期        0\n",
       "計算胎次        0\n",
       "胎次          0\n",
       "分娩難易度     903\n",
       "犢牛體型     3408\n",
       "犢牛性別     2802\n",
       "field       0\n",
       "乾乳年         0\n",
       "乾乳月         0\n",
       "dtype: int64"
      ]
     },
     "execution_count": 8,
     "metadata": {},
     "output_type": "execute_result"
    }
   ],
   "source": [
    "df_birth.isna().sum()"
   ]
  },
  {
   "cell_type": "markdown",
   "metadata": {},
   "source": [
    "#### 訓練集的乳牛數"
   ]
  },
  {
   "cell_type": "code",
   "execution_count": 9,
   "metadata": {},
   "outputs": [
    {
     "data": {
      "text/plain": [
       "1991"
      ]
     },
     "execution_count": 9,
     "metadata": {},
     "output_type": "execute_result"
    }
   ],
   "source": [
    "len(set(df_report[\"id\"]))"
   ]
  },
  {
   "cell_type": "markdown",
   "metadata": {},
   "source": [
    "#### 有體重的乳牛"
   ]
  },
  {
   "cell_type": "code",
   "execution_count": 10,
   "metadata": {},
   "outputs": [
    {
     "data": {
      "text/plain": [
       "316"
      ]
     },
     "execution_count": 10,
     "metadata": {},
     "output_type": "execute_result"
    }
   ],
   "source": [
    "len(set(df_birth[df_birth[\"母牛體重\"].notnull()][\"id\"]))"
   ]
  },
  {
   "cell_type": "code",
   "execution_count": 11,
   "metadata": {},
   "outputs": [
    {
     "data": {
      "text/plain": [
       "1675"
      ]
     },
     "execution_count": 11,
     "metadata": {},
     "output_type": "execute_result"
    }
   ],
   "source": [
    "# 沒有體重資料的乳牛\n",
    "len(set(df_report[\"id\"]) - set(df_birth[df_birth[\"母牛體重\"].notnull()][\"id\"]))"
   ]
  },
  {
   "cell_type": "markdown",
   "metadata": {},
   "source": [
    "#### 測試集的乳牛id是否都有歷史資料"
   ]
  },
  {
   "cell_type": "code",
   "execution_count": 12,
   "metadata": {},
   "outputs": [
    {
     "data": {
      "text/plain": [
       "846"
      ]
     },
     "execution_count": 12,
     "metadata": {},
     "output_type": "execute_result"
    }
   ],
   "source": [
    "# 測試集乳牛數\n",
    "len(set(df_report[df_report[\"volume\"].isnull()][\"id\"]))"
   ]
  },
  {
   "cell_type": "code",
   "execution_count": 13,
   "metadata": {},
   "outputs": [
    {
     "data": {
      "text/plain": [
       "1821"
      ]
     },
     "execution_count": 13,
     "metadata": {},
     "output_type": "execute_result"
    }
   ],
   "source": [
    "# 有資料的乳牛數\n",
    "len(set(df_report[df_report[\"volume\"].notnull()][\"id\"]))"
   ]
  },
  {
   "cell_type": "code",
   "execution_count": 14,
   "metadata": {},
   "outputs": [
    {
     "data": {
      "text/plain": [
       "170"
      ]
     },
     "execution_count": 14,
     "metadata": {},
     "output_type": "execute_result"
    }
   ],
   "source": [
    "# 有多少乳牛沒有歷史資料\n",
    "len(set(df_report[df_report[\"volume\"].isnull()][\"id\"]) - set(df_report[df_report[\"volume\"].notnull()][\"id\"]))"
   ]
  },
  {
   "cell_type": "markdown",
   "metadata": {},
   "source": [
    "### 乳量分布"
   ]
  },
  {
   "cell_type": "code",
   "execution_count": 15,
   "metadata": {},
   "outputs": [
    {
     "data": {
      "text/html": [
       "<div>\n",
       "<style scoped>\n",
       "    .dataframe tbody tr th:only-of-type {\n",
       "        vertical-align: middle;\n",
       "    }\n",
       "\n",
       "    .dataframe tbody tr th {\n",
       "        vertical-align: top;\n",
       "    }\n",
       "\n",
       "    .dataframe thead th {\n",
       "        text-align: right;\n",
       "    }\n",
       "</style>\n",
       "<table border=\"1\" class=\"dataframe\">\n",
       "  <thead>\n",
       "    <tr style=\"text-align: right;\">\n",
       "      <th></th>\n",
       "      <th>min</th>\n",
       "      <th>max</th>\n",
       "      <th>mean</th>\n",
       "      <th>median</th>\n",
       "      <th>std</th>\n",
       "      <th>count</th>\n",
       "    </tr>\n",
       "    <tr>\n",
       "      <th>month</th>\n",
       "      <th></th>\n",
       "      <th></th>\n",
       "      <th></th>\n",
       "      <th></th>\n",
       "      <th></th>\n",
       "      <th></th>\n",
       "    </tr>\n",
       "  </thead>\n",
       "  <tbody>\n",
       "    <tr>\n",
       "      <th>1</th>\n",
       "      <td>0.0</td>\n",
       "      <td>58.4</td>\n",
       "      <td>24.634626</td>\n",
       "      <td>24.00</td>\n",
       "      <td>9.149530</td>\n",
       "      <td>2631</td>\n",
       "    </tr>\n",
       "    <tr>\n",
       "      <th>2</th>\n",
       "      <td>0.0</td>\n",
       "      <td>58.0</td>\n",
       "      <td>25.239202</td>\n",
       "      <td>24.70</td>\n",
       "      <td>9.264851</td>\n",
       "      <td>2783</td>\n",
       "    </tr>\n",
       "    <tr>\n",
       "      <th>3</th>\n",
       "      <td>0.0</td>\n",
       "      <td>60.5</td>\n",
       "      <td>25.094327</td>\n",
       "      <td>25.00</td>\n",
       "      <td>9.014914</td>\n",
       "      <td>2697</td>\n",
       "    </tr>\n",
       "    <tr>\n",
       "      <th>4</th>\n",
       "      <td>0.0</td>\n",
       "      <td>61.0</td>\n",
       "      <td>24.943239</td>\n",
       "      <td>24.60</td>\n",
       "      <td>9.002821</td>\n",
       "      <td>2958</td>\n",
       "    </tr>\n",
       "    <tr>\n",
       "      <th>5</th>\n",
       "      <td>0.0</td>\n",
       "      <td>53.7</td>\n",
       "      <td>24.382015</td>\n",
       "      <td>24.00</td>\n",
       "      <td>8.630496</td>\n",
       "      <td>2908</td>\n",
       "    </tr>\n",
       "    <tr>\n",
       "      <th>6</th>\n",
       "      <td>0.0</td>\n",
       "      <td>52.8</td>\n",
       "      <td>24.088705</td>\n",
       "      <td>24.00</td>\n",
       "      <td>8.537625</td>\n",
       "      <td>2796</td>\n",
       "    </tr>\n",
       "    <tr>\n",
       "      <th>7</th>\n",
       "      <td>0.0</td>\n",
       "      <td>56.0</td>\n",
       "      <td>23.086387</td>\n",
       "      <td>23.00</td>\n",
       "      <td>8.170185</td>\n",
       "      <td>2762</td>\n",
       "    </tr>\n",
       "    <tr>\n",
       "      <th>8</th>\n",
       "      <td>0.0</td>\n",
       "      <td>53.0</td>\n",
       "      <td>22.930072</td>\n",
       "      <td>22.65</td>\n",
       "      <td>8.211716</td>\n",
       "      <td>2780</td>\n",
       "    </tr>\n",
       "    <tr>\n",
       "      <th>9</th>\n",
       "      <td>0.0</td>\n",
       "      <td>54.0</td>\n",
       "      <td>22.883155</td>\n",
       "      <td>22.30</td>\n",
       "      <td>8.436557</td>\n",
       "      <td>2618</td>\n",
       "    </tr>\n",
       "    <tr>\n",
       "      <th>10</th>\n",
       "      <td>0.0</td>\n",
       "      <td>52.0</td>\n",
       "      <td>23.002408</td>\n",
       "      <td>22.30</td>\n",
       "      <td>8.577834</td>\n",
       "      <td>2824</td>\n",
       "    </tr>\n",
       "    <tr>\n",
       "      <th>11</th>\n",
       "      <td>0.0</td>\n",
       "      <td>53.0</td>\n",
       "      <td>23.762559</td>\n",
       "      <td>23.00</td>\n",
       "      <td>8.654591</td>\n",
       "      <td>2743</td>\n",
       "    </tr>\n",
       "    <tr>\n",
       "      <th>12</th>\n",
       "      <td>0.0</td>\n",
       "      <td>52.0</td>\n",
       "      <td>23.779956</td>\n",
       "      <td>23.00</td>\n",
       "      <td>8.719425</td>\n",
       "      <td>2754</td>\n",
       "    </tr>\n",
       "  </tbody>\n",
       "</table>\n",
       "</div>"
      ],
      "text/plain": [
       "       min   max       mean  median       std  count\n",
       "month                                               \n",
       "1      0.0  58.4  24.634626   24.00  9.149530   2631\n",
       "2      0.0  58.0  25.239202   24.70  9.264851   2783\n",
       "3      0.0  60.5  25.094327   25.00  9.014914   2697\n",
       "4      0.0  61.0  24.943239   24.60  9.002821   2958\n",
       "5      0.0  53.7  24.382015   24.00  8.630496   2908\n",
       "6      0.0  52.8  24.088705   24.00  8.537625   2796\n",
       "7      0.0  56.0  23.086387   23.00  8.170185   2762\n",
       "8      0.0  53.0  22.930072   22.65  8.211716   2780\n",
       "9      0.0  54.0  22.883155   22.30  8.436557   2618\n",
       "10     0.0  52.0  23.002408   22.30  8.577834   2824\n",
       "11     0.0  53.0  23.762559   23.00  8.654591   2743\n",
       "12     0.0  52.0  23.779956   23.00  8.719425   2754"
      ]
     },
     "execution_count": 15,
     "metadata": {},
     "output_type": "execute_result"
    }
   ],
   "source": [
    "df_report[df_report[\"volume\"].notnull()].groupby(\"month\")[\"volume\"].aggregate(\n",
    "    [\"min\", \"max\", \"mean\", \"median\", \"std\", \"count\"]\n",
    ")"
   ]
  },
  {
   "cell_type": "markdown",
   "metadata": {},
   "source": [
    "### 要用的欄位"
   ]
  },
  {
   "cell_type": "code",
   "execution_count": 16,
   "metadata": {},
   "outputs": [
    {
     "data": {
      "text/plain": [
       "row_id           0\n",
       "year             0\n",
       "month            0\n",
       "field            0\n",
       "id               0\n",
       "father_id      876\n",
       "mother_id     3584\n",
       "birthday         0\n",
       "胎次               0\n",
       "泌乳天數             1\n",
       "volume        4263\n",
       "最近分娩日期           1\n",
       "採樣日期             0\n",
       "月齡               0\n",
       "檢測日期             0\n",
       "最後配種日期        1536\n",
       "最後配種精液        1536\n",
       "配種次數             0\n",
       "前次分娩日期       17420\n",
       "第一次配種日期       1431\n",
       "第一次配種精液       1431\n",
       "dtype: int64"
      ]
     },
     "execution_count": 16,
     "metadata": {},
     "output_type": "execute_result"
    }
   ],
   "source": [
    "df_report.isna().sum()"
   ]
  },
  {
   "cell_type": "code",
   "execution_count": 17,
   "metadata": {},
   "outputs": [
    {
     "data": {
      "text/html": [
       "<div>\n",
       "<style scoped>\n",
       "    .dataframe tbody tr th:only-of-type {\n",
       "        vertical-align: middle;\n",
       "    }\n",
       "\n",
       "    .dataframe tbody tr th {\n",
       "        vertical-align: top;\n",
       "    }\n",
       "\n",
       "    .dataframe thead th {\n",
       "        text-align: right;\n",
       "    }\n",
       "</style>\n",
       "<table border=\"1\" class=\"dataframe\">\n",
       "  <thead>\n",
       "    <tr style=\"text-align: right;\">\n",
       "      <th></th>\n",
       "      <th>id</th>\n",
       "    </tr>\n",
       "    <tr>\n",
       "      <th>胎次</th>\n",
       "      <th></th>\n",
       "    </tr>\n",
       "  </thead>\n",
       "  <tbody>\n",
       "    <tr>\n",
       "      <th>0</th>\n",
       "      <td>1</td>\n",
       "    </tr>\n",
       "    <tr>\n",
       "      <th>1</th>\n",
       "      <td>17418</td>\n",
       "    </tr>\n",
       "    <tr>\n",
       "      <th>2</th>\n",
       "      <td>10923</td>\n",
       "    </tr>\n",
       "    <tr>\n",
       "      <th>3</th>\n",
       "      <td>5300</td>\n",
       "    </tr>\n",
       "    <tr>\n",
       "      <th>4</th>\n",
       "      <td>2190</td>\n",
       "    </tr>\n",
       "    <tr>\n",
       "      <th>5</th>\n",
       "      <td>962</td>\n",
       "    </tr>\n",
       "    <tr>\n",
       "      <th>6</th>\n",
       "      <td>427</td>\n",
       "    </tr>\n",
       "    <tr>\n",
       "      <th>7</th>\n",
       "      <td>184</td>\n",
       "    </tr>\n",
       "    <tr>\n",
       "      <th>8</th>\n",
       "      <td>87</td>\n",
       "    </tr>\n",
       "    <tr>\n",
       "      <th>9</th>\n",
       "      <td>18</td>\n",
       "    </tr>\n",
       "    <tr>\n",
       "      <th>11</th>\n",
       "      <td>7</td>\n",
       "    </tr>\n",
       "  </tbody>\n",
       "</table>\n",
       "</div>"
      ],
      "text/plain": [
       "       id\n",
       "胎次       \n",
       "0       1\n",
       "1   17418\n",
       "2   10923\n",
       "3    5300\n",
       "4    2190\n",
       "5     962\n",
       "6     427\n",
       "7     184\n",
       "8      87\n",
       "9      18\n",
       "11      7"
      ]
     },
     "execution_count": 17,
     "metadata": {},
     "output_type": "execute_result"
    }
   ],
   "source": [
    "df_report.groupby(\"胎次\").count()[[\"id\"]]"
   ]
  },
  {
   "cell_type": "code",
   "execution_count": 18,
   "metadata": {},
   "outputs": [
    {
     "data": {
      "text/plain": [
       "count    33254.000000\n",
       "mean        23.991659\n",
       "std          8.742980\n",
       "min          0.000000\n",
       "1%           7.000000\n",
       "2%           9.000000\n",
       "3%          10.000000\n",
       "4%          10.000000\n",
       "5%          10.000000\n",
       "50%         23.400000\n",
       "75%         30.000000\n",
       "95%         39.000000\n",
       "96%         40.000000\n",
       "97%         41.600000\n",
       "98%         43.000000\n",
       "99%         46.000000\n",
       "max         61.000000\n",
       "Name: volume, dtype: float64"
      ]
     },
     "execution_count": 18,
     "metadata": {},
     "output_type": "execute_result"
    }
   ],
   "source": [
    "df_report[\"volume\"].describe([0.01, 0.02, 0.03, 0.04, 0.05, 0.5, 0.75, 0.95, 0.96, 0.97, 0.98, 0.99])"
   ]
  },
  {
   "cell_type": "code",
   "execution_count": 19,
   "metadata": {},
   "outputs": [],
   "source": [
    "df_report.dropna(subset=[\"最近分娩日期\", \"泌乳天數\"], inplace=True)"
   ]
  },
  {
   "cell_type": "code",
   "execution_count": 20,
   "metadata": {},
   "outputs": [],
   "source": [
    "df_report[\"father_id\"].fillna(value=\"\", inplace=True)\n",
    "df_report[\"mother_id\"].fillna(value=\"\", inplace=True)"
   ]
  },
  {
   "cell_type": "code",
   "execution_count": 21,
   "metadata": {},
   "outputs": [],
   "source": [
    "df_report = df_report[df_report[\"胎次\"] <= 8]"
   ]
  },
  {
   "cell_type": "code",
   "execution_count": 22,
   "metadata": {},
   "outputs": [],
   "source": [
    "df_report.reset_index(drop=True, inplace=True)"
   ]
  },
  {
   "cell_type": "code",
   "execution_count": 23,
   "metadata": {},
   "outputs": [],
   "source": [
    "df_report[\"最近分娩日期\"] = df_report[\"最近分娩日期\"].map(lambda s: datetime.strptime(s, \"%Y/%m/%d %H:%M\"))\n",
    "df_report[\"採樣日期\"] = df_report[\"採樣日期\"].map(lambda s: datetime.strptime(s, \"%Y/%m/%d %H:%M\"))\n",
    "df_report[\"採樣_最近分娩\"] = df_report.apply(lambda r: (r[\"採樣日期\"] - r[\"最近分娩日期\"]).days, axis=1)"
   ]
  },
  {
   "cell_type": "code",
   "execution_count": 24,
   "metadata": {},
   "outputs": [],
   "source": [
    "def _(i):\n",
    "    if i >= 1 and i <= 4:\n",
    "        return \"1~4\"\n",
    "    if i >= 5 and i <= 8:\n",
    "        return \"5~8\"\n",
    "    return \"9~12\"\n",
    "df_report[\"month_3\"] = df_report[\"month\"].map(lambda i: _(i))\n",
    "\n",
    "def _(i):\n",
    "    if i in {1, 2, 3}:\n",
    "        return \"1~3\"\n",
    "    if i in {4, 5, 6}:\n",
    "        return \"4~6\"\n",
    "    if i in {7, 8, 9}:\n",
    "        return \"7~9\"\n",
    "    return \"10~12\"\n",
    "df_report[\"month_4\"] = df_report[\"month\"].map(lambda i: _(i))"
   ]
  },
  {
   "cell_type": "code",
   "execution_count": 25,
   "metadata": {},
   "outputs": [],
   "source": [
    "is_disease = []\n",
    "is_no_milk = [] # 乾乳期\n",
    "for _, row in df_report.iterrows():\n",
    "    if df_spec[\n",
    "        (df_spec[\"id\"] == row[\"id\"]) & (df_spec[\"year\"] == row[\"year\"]) & (df_spec[\"month\"] == row[\"month\"])\n",
    "    ].shape[0] != 0:\n",
    "        is_disease.append(1)\n",
    "    else:\n",
    "        is_disease.append(0)\n",
    "    \n",
    "    if df_birth[\n",
    "        (df_birth[\"id\"] == row[\"id\"]) & (df_birth[\"乾乳年\"] == row[\"year\"]) & (df_birth[\"乾乳月\"] == row[\"month\"])\n",
    "    ].shape[0] != 0:\n",
    "        is_no_milk.append(1)\n",
    "    else:\n",
    "        is_no_milk.append(0)\n",
    "df_report[\"is_disease\"] = is_disease\n",
    "df_report[\"is_no_milk\"] = is_no_milk"
   ]
  },
  {
   "cell_type": "code",
   "execution_count": 26,
   "metadata": {},
   "outputs": [
    {
     "data": {
      "text/html": [
       "<div>\n",
       "<style scoped>\n",
       "    .dataframe tbody tr th:only-of-type {\n",
       "        vertical-align: middle;\n",
       "    }\n",
       "\n",
       "    .dataframe tbody tr th {\n",
       "        vertical-align: top;\n",
       "    }\n",
       "\n",
       "    .dataframe thead th {\n",
       "        text-align: right;\n",
       "    }\n",
       "</style>\n",
       "<table border=\"1\" class=\"dataframe\">\n",
       "  <thead>\n",
       "    <tr style=\"text-align: right;\">\n",
       "      <th></th>\n",
       "      <th>min</th>\n",
       "      <th>max</th>\n",
       "      <th>mean</th>\n",
       "      <th>median</th>\n",
       "      <th>std</th>\n",
       "      <th>count</th>\n",
       "    </tr>\n",
       "    <tr>\n",
       "      <th>month</th>\n",
       "      <th></th>\n",
       "      <th></th>\n",
       "      <th></th>\n",
       "      <th></th>\n",
       "      <th></th>\n",
       "      <th></th>\n",
       "    </tr>\n",
       "  </thead>\n",
       "  <tbody>\n",
       "    <tr>\n",
       "      <th>1</th>\n",
       "      <td>0.0</td>\n",
       "      <td>58.4</td>\n",
       "      <td>24.641134</td>\n",
       "      <td>24.0</td>\n",
       "      <td>9.150343</td>\n",
       "      <td>2628</td>\n",
       "    </tr>\n",
       "    <tr>\n",
       "      <th>2</th>\n",
       "      <td>0.0</td>\n",
       "      <td>58.0</td>\n",
       "      <td>25.242158</td>\n",
       "      <td>24.7</td>\n",
       "      <td>9.266167</td>\n",
       "      <td>2780</td>\n",
       "    </tr>\n",
       "    <tr>\n",
       "      <th>3</th>\n",
       "      <td>0.0</td>\n",
       "      <td>60.5</td>\n",
       "      <td>25.103973</td>\n",
       "      <td>25.0</td>\n",
       "      <td>9.013309</td>\n",
       "      <td>2693</td>\n",
       "    </tr>\n",
       "    <tr>\n",
       "      <th>4</th>\n",
       "      <td>0.0</td>\n",
       "      <td>61.0</td>\n",
       "      <td>24.949036</td>\n",
       "      <td>24.6</td>\n",
       "      <td>9.003132</td>\n",
       "      <td>2955</td>\n",
       "    </tr>\n",
       "    <tr>\n",
       "      <th>5</th>\n",
       "      <td>0.0</td>\n",
       "      <td>53.7</td>\n",
       "      <td>24.382691</td>\n",
       "      <td>24.0</td>\n",
       "      <td>8.632911</td>\n",
       "      <td>2906</td>\n",
       "    </tr>\n",
       "    <tr>\n",
       "      <th>6</th>\n",
       "      <td>0.0</td>\n",
       "      <td>52.8</td>\n",
       "      <td>24.091739</td>\n",
       "      <td>24.0</td>\n",
       "      <td>8.537784</td>\n",
       "      <td>2794</td>\n",
       "    </tr>\n",
       "    <tr>\n",
       "      <th>7</th>\n",
       "      <td>0.0</td>\n",
       "      <td>56.0</td>\n",
       "      <td>23.096665</td>\n",
       "      <td>23.0</td>\n",
       "      <td>8.168491</td>\n",
       "      <td>2759</td>\n",
       "    </tr>\n",
       "    <tr>\n",
       "      <th>8</th>\n",
       "      <td>0.0</td>\n",
       "      <td>53.0</td>\n",
       "      <td>22.939381</td>\n",
       "      <td>22.7</td>\n",
       "      <td>8.206633</td>\n",
       "      <td>2778</td>\n",
       "    </tr>\n",
       "    <tr>\n",
       "      <th>9</th>\n",
       "      <td>0.0</td>\n",
       "      <td>54.0</td>\n",
       "      <td>22.886549</td>\n",
       "      <td>22.3</td>\n",
       "      <td>8.436382</td>\n",
       "      <td>2617</td>\n",
       "    </tr>\n",
       "    <tr>\n",
       "      <th>10</th>\n",
       "      <td>0.0</td>\n",
       "      <td>52.0</td>\n",
       "      <td>23.005597</td>\n",
       "      <td>22.3</td>\n",
       "      <td>8.577680</td>\n",
       "      <td>2823</td>\n",
       "    </tr>\n",
       "    <tr>\n",
       "      <th>11</th>\n",
       "      <td>0.0</td>\n",
       "      <td>53.0</td>\n",
       "      <td>23.766849</td>\n",
       "      <td>23.0</td>\n",
       "      <td>8.653252</td>\n",
       "      <td>2742</td>\n",
       "    </tr>\n",
       "    <tr>\n",
       "      <th>12</th>\n",
       "      <td>0.0</td>\n",
       "      <td>52.0</td>\n",
       "      <td>23.784235</td>\n",
       "      <td>23.0</td>\n",
       "      <td>8.718117</td>\n",
       "      <td>2753</td>\n",
       "    </tr>\n",
       "  </tbody>\n",
       "</table>\n",
       "</div>"
      ],
      "text/plain": [
       "       min   max       mean  median       std  count\n",
       "month                                               \n",
       "1      0.0  58.4  24.641134    24.0  9.150343   2628\n",
       "2      0.0  58.0  25.242158    24.7  9.266167   2780\n",
       "3      0.0  60.5  25.103973    25.0  9.013309   2693\n",
       "4      0.0  61.0  24.949036    24.6  9.003132   2955\n",
       "5      0.0  53.7  24.382691    24.0  8.632911   2906\n",
       "6      0.0  52.8  24.091739    24.0  8.537784   2794\n",
       "7      0.0  56.0  23.096665    23.0  8.168491   2759\n",
       "8      0.0  53.0  22.939381    22.7  8.206633   2778\n",
       "9      0.0  54.0  22.886549    22.3  8.436382   2617\n",
       "10     0.0  52.0  23.005597    22.3  8.577680   2823\n",
       "11     0.0  53.0  23.766849    23.0  8.653252   2742\n",
       "12     0.0  52.0  23.784235    23.0  8.718117   2753"
      ]
     },
     "execution_count": 26,
     "metadata": {},
     "output_type": "execute_result"
    }
   ],
   "source": [
    "df_report[df_report[\"volume\"].notnull()].groupby(\"month\")[\"volume\"].aggregate(\n",
    "    [\"min\", \"max\", \"mean\", \"median\", \"std\", \"count\"]\n",
    ")"
   ]
  },
  {
   "cell_type": "markdown",
   "metadata": {},
   "source": [
    "#### spec 資訊"
   ]
  },
  {
   "cell_type": "code",
   "execution_count": 27,
   "metadata": {},
   "outputs": [
    {
     "data": {
      "text/plain": [
       "35"
      ]
     },
     "execution_count": 27,
     "metadata": {},
     "output_type": "execute_result"
    }
   ],
   "source": [
    "specs = list({s for s, i in dict(df_spec[\"type\"].value_counts()).items() if i >=10})\n",
    "len(specs)"
   ]
  },
  {
   "cell_type": "code",
   "execution_count": 28,
   "metadata": {},
   "outputs": [],
   "source": [
    "id_to_spec_fea = {}\n",
    "for _id, sub_df in df_spec.groupby(\"id\"):\n",
    "    f = np.zeros(len(specs))\n",
    "    idx = [i for i, s in enumerate(specs) if s in set(sub_df[\"type\"])]\n",
    "    if len(idx):\n",
    "        f[idx] = 1\n",
    "    id_to_spec_fea[_id] = f.tolist()"
   ]
  },
  {
   "cell_type": "code",
   "execution_count": 29,
   "metadata": {},
   "outputs": [],
   "source": [
    "data = []\n",
    "for i in df_report[\"id\"]:\n",
    "    data.append(id_to_spec_fea.get(i, [0] * len(specs)))\n",
    "df_disease = pd.DataFrame(data, columns=specs)"
   ]
  },
  {
   "cell_type": "markdown",
   "metadata": {},
   "source": [
    "#### father_id, mother_id 次數"
   ]
  },
  {
   "cell_type": "code",
   "execution_count": 30,
   "metadata": {},
   "outputs": [
    {
     "data": {
      "text/plain": [
       "(282, 877)"
      ]
     },
     "execution_count": 30,
     "metadata": {},
     "output_type": "execute_result"
    }
   ],
   "source": [
    "selected_father_id = {s for s, i in dict(df_report[df_report[\"volume\"].notnull()][\"father_id\"].value_counts()).items() if i >= 10 and s != \"\"}\n",
    "selected_mother_id = {s for s, i in dict(df_report[df_report[\"volume\"].notnull()][\"mother_id\"].value_counts()).items() if i >= 10 and s != \"\"}\n",
    "len(selected_father_id), len(selected_mother_id)"
   ]
  },
  {
   "cell_type": "code",
   "execution_count": 31,
   "metadata": {},
   "outputs": [],
   "source": [
    "data = []\n",
    "for _, row in df_report.iterrows():\n",
    "    f = row[\"father_id\"] if row[\"father_id\"] in selected_father_id else \"\"\n",
    "    m = row[\"mother_id\"] if row[\"mother_id\"] in selected_mother_id else \"\"\n",
    "    data.append([f, m])\n",
    "df_father_mother = pd.DataFrame(data, columns=[\"selected_father\", \"selected_mother\"])"
   ]
  },
  {
   "cell_type": "code",
   "execution_count": 32,
   "metadata": {},
   "outputs": [],
   "source": [
    "df_report_final = pd.concat((df_report, df_disease, df_father_mother), axis=1)"
   ]
  },
  {
   "cell_type": "code",
   "execution_count": 33,
   "metadata": {},
   "outputs": [],
   "source": [
    "df = df_report_final[\n",
    "    [\n",
    "        \"row_id\", \"year\", \"month\", \"field\", \"id\", \"volume\",\n",
    "        \"father_id\", \"mother_id\",\n",
    "        \"胎次\", \"泌乳天數\", \"月齡\",\n",
    "        \"最近分娩日期\", \"採樣日期\", \"配種次數\",\n",
    "        \"month_3\", \"month_4\",\n",
    "        \"採樣_最近分娩\", \"is_disease\", \"is_no_milk\",\n",
    "        \"selected_father\",\n",
    "        \"selected_mother\"\n",
    "    ] + specs\n",
    "].copy()"
   ]
  },
  {
   "cell_type": "markdown",
   "metadata": {},
   "source": [
    "### train / val / test"
   ]
  },
  {
   "cell_type": "code",
   "execution_count": 35,
   "metadata": {},
   "outputs": [
    {
     "data": {
      "text/plain": [
       "((25752, 56), (7116, 56), (4263, 56))"
      ]
     },
     "execution_count": 35,
     "metadata": {},
     "output_type": "execute_result"
    }
   ],
   "source": [
    "df_train = df[df[\"volume\"].notnull()].copy()\n",
    "df_test = df[df[\"volume\"].isnull()].copy()\n",
    "\n",
    "### 去掉volume離群值 ###\n",
    "df_train = df_train[(df_train[\"volume\"] >= 5) & (df_train[\"volume\"] <= 46)].copy()\n",
    "\n",
    "df_tr = df_train[df_train[\"year\"] < 2018].copy()\n",
    "df_val = df_train[df_train[\"year\"] == 2018].copy()\n",
    "df_tr.shape, df_val.shape, df_test.shape"
   ]
  },
  {
   "cell_type": "markdown",
   "metadata": {},
   "source": [
    "#### feature"
   ]
  },
  {
   "cell_type": "code",
   "execution_count": 36,
   "metadata": {},
   "outputs": [],
   "source": [
    "from sklearn.preprocessing import LabelEncoder, OneHotEncoder\n",
    "from sklearn.compose import ColumnTransformer\n",
    "import xgboost\n",
    "import matplotlib.pyplot as plt"
   ]
  },
  {
   "cell_type": "code",
   "execution_count": 37,
   "metadata": {},
   "outputs": [
    {
     "data": {
      "text/html": [
       "<div>\n",
       "<style scoped>\n",
       "    .dataframe tbody tr th:only-of-type {\n",
       "        vertical-align: middle;\n",
       "    }\n",
       "\n",
       "    .dataframe tbody tr th {\n",
       "        vertical-align: top;\n",
       "    }\n",
       "\n",
       "    .dataframe thead th {\n",
       "        text-align: right;\n",
       "    }\n",
       "</style>\n",
       "<table border=\"1\" class=\"dataframe\">\n",
       "  <thead>\n",
       "    <tr style=\"text-align: right;\">\n",
       "      <th></th>\n",
       "      <th>row_id</th>\n",
       "      <th>year</th>\n",
       "      <th>month</th>\n",
       "      <th>field</th>\n",
       "      <th>id</th>\n",
       "      <th>volume</th>\n",
       "      <th>father_id</th>\n",
       "      <th>mother_id</th>\n",
       "      <th>胎次</th>\n",
       "      <th>泌乳天數</th>\n",
       "      <th>月齡</th>\n",
       "      <th>最近分娩日期</th>\n",
       "      <th>採樣日期</th>\n",
       "      <th>配種次數</th>\n",
       "      <th>month_3</th>\n",
       "      <th>month_4</th>\n",
       "      <th>採樣_最近分娩</th>\n",
       "      <th>is_disease</th>\n",
       "      <th>is_no_milk</th>\n",
       "      <th>selected_father</th>\n",
       "      <th>selected_mother</th>\n",
       "      <th>C-81</th>\n",
       "      <th>D-30</th>\n",
       "      <th>C-62</th>\n",
       "      <th>D-31</th>\n",
       "      <th>C-41</th>\n",
       "      <th>C-31</th>\n",
       "      <th>C-5</th>\n",
       "      <th>C-32</th>\n",
       "      <th>D-2</th>\n",
       "      <th>C-1</th>\n",
       "      <th>C-30</th>\n",
       "      <th>C-12</th>\n",
       "      <th>C-61</th>\n",
       "      <th>C-24</th>\n",
       "      <th>C-C</th>\n",
       "      <th>C-0</th>\n",
       "      <th>C-50</th>\n",
       "      <th>C-40</th>\n",
       "      <th>D-42</th>\n",
       "      <th>C-3</th>\n",
       "      <th>C-20</th>\n",
       "      <th>C-42</th>\n",
       "      <th>D-1</th>\n",
       "      <th>D-29</th>\n",
       "      <th>C-39</th>\n",
       "      <th>C-43</th>\n",
       "      <th>C-60</th>\n",
       "      <th>N-</th>\n",
       "      <th>D-20</th>\n",
       "      <th>C-11</th>\n",
       "      <th>C-27</th>\n",
       "      <th>C-53</th>\n",
       "      <th>D-21</th>\n",
       "      <th>C-45</th>\n",
       "      <th>C-2</th>\n",
       "    </tr>\n",
       "  </thead>\n",
       "  <tbody>\n",
       "    <tr>\n",
       "      <th>0</th>\n",
       "      <td>1</td>\n",
       "      <td>2013</td>\n",
       "      <td>3</td>\n",
       "      <td>A</td>\n",
       "      <td>52612</td>\n",
       "      <td>29.4</td>\n",
       "      <td>507H7173</td>\n",
       "      <td>96040545</td>\n",
       "      <td>1</td>\n",
       "      <td>78.0</td>\n",
       "      <td>26</td>\n",
       "      <td>2013-01-01</td>\n",
       "      <td>2013-03-20</td>\n",
       "      <td>1</td>\n",
       "      <td>1~4</td>\n",
       "      <td>1~3</td>\n",
       "      <td>78</td>\n",
       "      <td>0</td>\n",
       "      <td>0</td>\n",
       "      <td>507H7173</td>\n",
       "      <td>96040545</td>\n",
       "      <td>0.0</td>\n",
       "      <td>0.0</td>\n",
       "      <td>0.0</td>\n",
       "      <td>0.0</td>\n",
       "      <td>0.0</td>\n",
       "      <td>0.0</td>\n",
       "      <td>0.0</td>\n",
       "      <td>0.0</td>\n",
       "      <td>0.0</td>\n",
       "      <td>0.0</td>\n",
       "      <td>0.0</td>\n",
       "      <td>1.0</td>\n",
       "      <td>0.0</td>\n",
       "      <td>0.0</td>\n",
       "      <td>0.0</td>\n",
       "      <td>0.0</td>\n",
       "      <td>0.0</td>\n",
       "      <td>0.0</td>\n",
       "      <td>0.0</td>\n",
       "      <td>0.0</td>\n",
       "      <td>0.0</td>\n",
       "      <td>0.0</td>\n",
       "      <td>0.0</td>\n",
       "      <td>0.0</td>\n",
       "      <td>0.0</td>\n",
       "      <td>0.0</td>\n",
       "      <td>0.0</td>\n",
       "      <td>1.0</td>\n",
       "      <td>1.0</td>\n",
       "      <td>0.0</td>\n",
       "      <td>0.0</td>\n",
       "      <td>0.0</td>\n",
       "      <td>0.0</td>\n",
       "      <td>0.0</td>\n",
       "      <td>0.0</td>\n",
       "    </tr>\n",
       "  </tbody>\n",
       "</table>\n",
       "</div>"
      ],
      "text/plain": [
       "   row_id  year  month field     id  volume father_id mother_id  胎次  泌乳天數  月齡  \\\n",
       "0       1  2013      3     A  52612    29.4  507H7173  96040545   1  78.0  26   \n",
       "\n",
       "      最近分娩日期       採樣日期  配種次數 month_3 month_4  採樣_最近分娩  is_disease  \\\n",
       "0 2013-01-01 2013-03-20     1     1~4     1~3       78           0   \n",
       "\n",
       "   is_no_milk selected_father selected_mother  C-81  D-30  C-62  D-31  C-41  \\\n",
       "0           0        507H7173        96040545   0.0   0.0   0.0   0.0   0.0   \n",
       "\n",
       "   C-31  C-5  C-32  D-2  C-1  C-30  C-12  C-61  C-24  C-C  C-0  C-50  C-40  \\\n",
       "0   0.0  0.0   0.0  0.0  0.0   0.0   1.0   0.0   0.0  0.0  0.0   0.0   0.0   \n",
       "\n",
       "   D-42  C-3  C-20  C-42  D-1  D-29  C-39  C-43  C-60   N-  D-20  C-11  C-27  \\\n",
       "0   0.0  0.0   0.0   0.0  0.0   0.0   0.0   0.0   0.0  1.0   1.0   0.0   0.0   \n",
       "\n",
       "   C-53  D-21  C-45  C-2  \n",
       "0   0.0   0.0   0.0  0.0  "
      ]
     },
     "execution_count": 37,
     "metadata": {},
     "output_type": "execute_result"
    }
   ],
   "source": [
    "df_tr.head(1)"
   ]
  },
  {
   "cell_type": "code",
   "execution_count": 38,
   "metadata": {},
   "outputs": [],
   "source": [
    "oe_month = OneHotEncoder(sparse=False, categories=\"auto\", handle_unknown=\"ignore\")\n",
    "month_fea = oe_month.fit_transform(df_tr[\"month\"].values.reshape(-1, 1))\n",
    "\n",
    "oe_field = OneHotEncoder(sparse=False, categories=\"auto\", handle_unknown=\"ignore\")\n",
    "field_fea = oe_field.fit_transform(df_tr[\"field\"].values.reshape(-1, 1))\n",
    "\n",
    "oe_id = OneHotEncoder(sparse=False, categories=\"auto\", handle_unknown=\"ignore\")\n",
    "id_fea = oe_id.fit_transform(df_tr[\"id\"].values.reshape(-1 ,1))\n",
    "\n",
    "oe_father = OneHotEncoder(sparse=False, categories=\"auto\", handle_unknown=\"ignore\")\n",
    "father_fea = oe_father.fit_transform(df_tr[\"selected_father\"].values.reshape(-1, 1))\n",
    "\n",
    "oe_mother = OneHotEncoder(sparse=False, categories=\"auto\", handle_unknown=\"ignore\")\n",
    "mother_fea = oe_mother.fit_transform(df_tr[\"selected_mother\"].values.reshape(-1, 1))\n",
    "\n",
    "oe_month_3 = OneHotEncoder(sparse=False, categories=\"auto\", handle_unknown=\"ignore\")\n",
    "month_3_fea = oe_month_3.fit_transform(df_tr[\"month_3\"].values.reshape(-1, 1))\n",
    "\n",
    "oe_month_4 = OneHotEncoder(sparse=False, categories=\"auto\", handle_unknown=\"ignore\")\n",
    "month_4_fea = oe_month_4.fit_transform(df_tr[\"month_4\"].values.reshape(-1, 1))\n",
    "\n",
    "features = [\n",
    "    \"胎次\", \n",
    "    \"泌乳天數\", \n",
    "    \"月齡\", \n",
    "    \"配種次數\", \n",
    "    # \"採樣_最近分娩\",\n",
    "    \"is_disease\",\n",
    "    \"is_no_milk\",\n",
    "]\n",
    "features += specs"
   ]
  },
  {
   "cell_type": "code",
   "execution_count": 39,
   "metadata": {},
   "outputs": [
    {
     "data": {
      "text/plain": [
       "((25752, 1838), (25752,))"
      ]
     },
     "execution_count": 39,
     "metadata": {},
     "output_type": "execute_result"
    }
   ],
   "source": [
    "x_tr = np.concatenate((\n",
    "    df_tr[features].values,\n",
    "    month_fea,\n",
    "    field_fea,\n",
    "    id_fea,\n",
    "    father_fea,\n",
    "    # mother_fea,\n",
    "    month_3_fea,\n",
    "    # month_4_fea\n",
    "    ), axis=1\n",
    ")\n",
    "y_tr = df_tr[\"volume\"].values\n",
    "x_tr.shape, y_tr.shape"
   ]
  },
  {
   "cell_type": "code",
   "execution_count": 40,
   "metadata": {},
   "outputs": [],
   "source": [
    "month_fea = oe_month.transform(df_val[\"month\"].values.reshape(-1, 1))\n",
    "field_fea = oe_field.transform(df_val[\"field\"].values.reshape(-1, 1))\n",
    "id_fea = oe_id.transform(df_val[\"id\"].values.reshape(-1 ,1))\n",
    "father_fea = oe_father.transform(df_val[\"selected_father\"].values.reshape(-1, 1))\n",
    "mother_fea = oe_mother.transform(df_val[\"selected_mother\"].values.reshape(-1, 1))\n",
    "month_3_fea = oe_month_3.transform(df_val[\"month_3\"].values.reshape(-1, 1))\n",
    "month_4_fea = oe_month_4.transform(df_val[\"month_4\"].values.reshape(-1, 1))"
   ]
  },
  {
   "cell_type": "code",
   "execution_count": 41,
   "metadata": {},
   "outputs": [
    {
     "data": {
      "text/plain": [
       "((7116, 1838), (7116,))"
      ]
     },
     "execution_count": 41,
     "metadata": {},
     "output_type": "execute_result"
    }
   ],
   "source": [
    "x_val = np.concatenate((\n",
    "    df_val[features].values,\n",
    "    month_fea,\n",
    "    field_fea,\n",
    "    id_fea,\n",
    "    father_fea,\n",
    "    # mother_fea,\n",
    "    month_3_fea,\n",
    "    # month_4_fea\n",
    "    ), axis=1\n",
    ")\n",
    "y_val = df_val[\"volume\"].values\n",
    "x_val.shape, y_val.shape"
   ]
  },
  {
   "cell_type": "markdown",
   "metadata": {},
   "source": [
    "### model"
   ]
  },
  {
   "cell_type": "code",
   "execution_count": 44,
   "metadata": {},
   "outputs": [],
   "source": [
    "def loss(y_true, y_pred, return_losses=False):\n",
    "    l = [np.power(i - j, 2) for i, j in zip(y_true, y_pred)]\n",
    "    if return_losses:\n",
    "        return np.sqrt(np.mean(l)), l\n",
    "    return np.sqrt(np.mean(l))"
   ]
  },
  {
   "cell_type": "code",
   "execution_count": 45,
   "metadata": {},
   "outputs": [],
   "source": [
    "model = xgboost.XGBRegressor(\n",
    "    max_depth=None, learning_rate=0.2, n_estimators=500, subsample=0.8, n_jobs=8,\n",
    "    colsample_bytree=0.9, \n",
    ")"
   ]
  },
  {
   "cell_type": "code",
   "execution_count": 46,
   "metadata": {},
   "outputs": [
    {
     "name": "stdout",
     "output_type": "stream",
     "text": [
      "0:02:10.052377\n"
     ]
    }
   ],
   "source": [
    "t1 = datetime.now()\n",
    "model.fit(x_tr, y_tr)\n",
    "print(datetime.now() - t1)"
   ]
  },
  {
   "cell_type": "code",
   "execution_count": 47,
   "metadata": {},
   "outputs": [
    {
     "name": "stdout",
     "output_type": "stream",
     "text": [
      "validate loss: 5.575397866973536\n"
     ]
    }
   ],
   "source": [
    "prediction_all = model.predict(x_val)\n",
    "l, l_all = loss(y_val, prediction_all, return_losses=True)\n",
    "print(f\"validate loss: {l}\")\n",
    "df_val[\"pred\"] = prediction_all\n",
    "df_val[\"loss\"] = l_all"
   ]
  },
  {
   "cell_type": "markdown",
   "metadata": {},
   "source": [
    "```\n",
    "feature:\n",
    "month_fea, field_fea, id_fea, father_fea, mother_fea, month_3_fea, month_4_fea,\n",
    "胎次, 泌乳天數, 月齡, 配種次數, 採樣_最近分娩, is_disease, `specs`\n",
    "hyper:\n",
    "max_depth=None, learning_rate=0.2, n_estimators=500, subsample=0.8, n_jobs=8, colsample_bytree=0.9\n",
    "```\n",
    "1. 全用 => 5.569513909276122\n",
    "2. 去掉 id_fea => 5.7\n",
    "3. 去掉 father_fea => 5.614918057221602\n",
    "4. 去掉 mother_fea => 5.567117544546619\n",
    "5. 去掉 mother_fea, 採樣_最近分娩 => 5.546539576478557\n",
    "6. 去掉 mother_fea, 採樣_最近分娩, specs => 5.571134430503368\n",
    "7. 去掉 mother_fea, 採樣_最近分娩, is_disease => 5.607048854513983\n",
    "8. 去掉 mother_fea, 採樣_最近分娩, 胎次 => 5.586450300536761\n",
    "9. 去掉 mother_fea, 採樣_最近分娩, month_4_fea => 5.543575874811644\n",
    "10. 去掉 mother_fea, 採樣_最近分娩, month_4_fea，增加 is_no_milk當月 => 5.521250260030221\n",
    "11. 去掉 mother_fea, 採樣_最近分娩, month_4_fea，增加 is_no_milk當月或前月 => 5.537155244281038\n",
    "\n",
    "```\n",
    "feature:\n",
    "month_fea, field_fea, id_fea, father_fea, month_3_fea, 胎次, 泌乳天數, 月齡, 配種次數, is_disease, `specs`\n",
    "hyper:\n",
    "max_depth=None, learning_rate=0.2, n_estimators=500, subsample=0.8, n_jobs=8, colsample_bytree=0.9\n",
    "```\n",
    "1. volume 挑2%~98%來訓練 ( 9 ~ 43 ) => 5.3860216137340045\n",
    "2. volume 挑3%~97%來訓練 ( 10 ~ 41 ) => 5.322555174478275\n",
    "3. volume 挑5%~95%來訓練 ( 10 ~ 39 ) => 5.201807385246551\n",
    "\n",
    "```\n",
    "feature:\n",
    "month_fea, field_fea, id_fea, selected_father, month_3_fea, 胎次, 泌乳天數, 月齡, 配種次數, is_disease, `specs`\n",
    "hyper:\n",
    "max_depth=None, learning_rate=0.2, n_estimators=500, subsample=0.8, n_jobs=8, colsample_bytree=0.9\n",
    "```\n",
    "1. volume 挑5%~95%來訓練 ( 10 ~ 39 ) => 5.18564322781415\n",
    "2. volume 挑5%~95%來訓練 ( 10 ~ 39 )，增加selected_mother => 5.18683125292462"
   ]
  },
  {
   "cell_type": "code",
   "execution_count": 48,
   "metadata": {},
   "outputs": [
    {
     "data": {
      "image/png": "[encoded data removed]",
      "text/plain": [
       "<Figure size 432x288 with 1 Axes>"
      ]
     },
     "metadata": {
      "needs_background": "light"
     },
     "output_type": "display_data"
    }
   ],
   "source": [
    "plt.scatter(np.arange(y_val.shape[0]), y_val, color='blue', label='Real', alpha=0.5)\n",
    "plt.scatter(np.arange(y_val.shape[0]), prediction_all,  color='red' , label='Predict', alpha=0.5)\n",
    "plt.title(\"Real vs Predict\")\n",
    "plt.legend(loc='best')\n",
    "plt.show()"
   ]
  },
  {
   "cell_type": "markdown",
   "metadata": {},
   "source": [
    "### hyperopt"
   ]
  },
  {
   "cell_type": "code",
   "execution_count": null,
   "metadata": {},
   "outputs": [],
   "source": [
    "from hpsklearn import HyperoptEstimator\n",
    "from hpsklearn import any_regressor\n",
    "from hpsklearn import any_preprocessing\n",
    "from hyperopt import tpe, hp, Trials\n",
    "from hyperopt.fmin import fmin\n",
    "from sklearn.metrics import mean_squared_error"
   ]
  },
  {
   "cell_type": "code",
   "execution_count": null,
   "metadata": {},
   "outputs": [],
   "source": [
    "def objective2(params):\n",
    "    est = int(params[\"n_estimators\"])\n",
    "    max_depth = params[\"max_depth\"]\n",
    "    sample = params[\"subsample\"]\n",
    "    \n",
    "    model = xgboost.XGBRegressor(\n",
    "        n_estimators=est, max_depth=max_depth, learning_rate=0.2, n_jobs=8, subsample=sample)\n",
    "    model.fit(x_tr, y_tr)\n",
    "    pred = model.predict(x_val)\n",
    "    score = mean_squared_error(y_val, pred)\n",
    "    return score\n",
    "\n",
    "def optimize2(trial):\n",
    "    params={\n",
    "        \"n_estimators\":hp.choice(\"n_estimators\", [300, 400, 500, 600]),\n",
    "        \"max_depth\":hp.choice(\"max_depth\", [5, 10, 15, 20, 25]),\n",
    "        \"subsample\": hp.choice(\"subsample\", [0.8, 0.85, 0.9, 0.95, 1.])\n",
    "    }\n",
    "    best2 = fmin(\n",
    "        fn=objective2, space=params, algo=tpe.suggest, trials=trial, max_evals=200, rstate=np.random.default_rng(5)\n",
    "    )\n",
    "    return best2"
   ]
  },
  {
   "cell_type": "code",
   "execution_count": null,
   "metadata": {},
   "outputs": [],
   "source": [
    "trial2 = Trials()\n",
    "best2 = optimize2(trial2)"
   ]
  },
  {
   "cell_type": "markdown",
   "metadata": {},
   "source": [
    "### submission"
   ]
  },
  {
   "cell_type": "code",
   "execution_count": 49,
   "metadata": {},
   "outputs": [],
   "source": [
    "oe_month = OneHotEncoder(sparse=False, categories=\"auto\", handle_unknown=\"ignore\")\n",
    "month_fea = oe_month.fit_transform(df_train[\"month\"].values.reshape(-1, 1))\n",
    "\n",
    "oe_field = OneHotEncoder(sparse=False, categories=\"auto\", handle_unknown=\"ignore\")\n",
    "field_fea = oe_field.fit_transform(df_train[\"field\"].values.reshape(-1, 1))\n",
    "\n",
    "oe_id = OneHotEncoder(sparse=False, categories=\"auto\", handle_unknown=\"ignore\")\n",
    "id_fea = oe_id.fit_transform(df_train[\"id\"].values.reshape(-1 ,1))\n",
    "\n",
    "oe_father = OneHotEncoder(sparse=False, categories=\"auto\", handle_unknown=\"ignore\")\n",
    "father_fea = oe_father.fit_transform(df_train[\"selected_father\"].values.reshape(-1, 1))\n",
    "\n",
    "oe_mother = OneHotEncoder(sparse=False, categories=\"auto\", handle_unknown=\"ignore\")\n",
    "mother_fea = oe_mother.fit_transform(df_train[\"selected_mother\"].values.reshape(-1, 1))\n",
    "\n",
    "oe_month_3 = OneHotEncoder(sparse=False, categories=\"auto\", handle_unknown=\"ignore\")\n",
    "month_3_fea = oe_month_3.fit_transform(df_train[\"month_3\"].values.reshape(-1, 1))\n",
    "\n",
    "oe_month_4 = OneHotEncoder(sparse=False, categories=\"auto\", handle_unknown=\"ignore\")\n",
    "month_4_fea = oe_month_4.fit_transform(df_train[\"month_4\"].values.reshape(-1, 1))\n",
    "\n",
    "features = [\n",
    "    \"胎次\", \n",
    "    \"泌乳天數\", \n",
    "    \"月齡\", \n",
    "    \"配種次數\", \n",
    "    # \"採樣_最近分娩\",\n",
    "    \"is_disease\",\n",
    "    \"is_no_milk\",\n",
    "]\n",
    "features += specs"
   ]
  },
  {
   "cell_type": "code",
   "execution_count": 50,
   "metadata": {},
   "outputs": [
    {
     "data": {
      "text/plain": [
       "((32868, 2159), (32868,))"
      ]
     },
     "execution_count": 50,
     "metadata": {},
     "output_type": "execute_result"
    }
   ],
   "source": [
    "x_train = np.concatenate((\n",
    "    df_train[features].values,\n",
    "    month_fea,\n",
    "    field_fea,\n",
    "    id_fea,\n",
    "    father_fea,\n",
    "    # mother_fea,\n",
    "    month_3_fea,\n",
    "    # month_4_fea\n",
    "    ), axis=1\n",
    ")\n",
    "y_train = df_train[\"volume\"].values\n",
    "x_train.shape, y_train.shape"
   ]
  },
  {
   "cell_type": "code",
   "execution_count": 51,
   "metadata": {},
   "outputs": [],
   "source": [
    "month_fea = oe_month.transform(df_test[\"month\"].values.reshape(-1, 1))\n",
    "field_fea = oe_field.transform(df_test[\"field\"].values.reshape(-1, 1))\n",
    "id_fea = oe_id.transform(df_test[\"id\"].values.reshape(-1 ,1))\n",
    "father_fea = oe_father.transform(df_test[\"selected_father\"].values.reshape(-1, 1))\n",
    "mother_fea = oe_mother.transform(df_test[\"selected_mother\"].values.reshape(-1, 1))\n",
    "month_3_fea = oe_month_3.transform(df_test[\"month_3\"].values.reshape(-1, 1))\n",
    "month_4_fea = oe_month_4.transform(df_test[\"month_4\"].values.reshape(-1, 1))"
   ]
  },
  {
   "cell_type": "code",
   "execution_count": 52,
   "metadata": {},
   "outputs": [
    {
     "data": {
      "text/plain": [
       "(4263, 2159)"
      ]
     },
     "execution_count": 52,
     "metadata": {},
     "output_type": "execute_result"
    }
   ],
   "source": [
    "x_te = np.concatenate((\n",
    "    df_test[features].values,\n",
    "    month_fea,\n",
    "    field_fea,\n",
    "    id_fea,\n",
    "    father_fea,\n",
    "    # mother_fea,\n",
    "    month_3_fea,\n",
    "    # month_4_fea\n",
    "    ), axis=1\n",
    ")\n",
    "x_te.shape"
   ]
  },
  {
   "cell_type": "code",
   "execution_count": 53,
   "metadata": {},
   "outputs": [],
   "source": [
    "model_final = xgboost.XGBRegressor(\n",
    "    max_depth=None, learning_rate=0.2, n_estimators=500, subsample=0.8, n_jobs=8,\n",
    "    colsample_bytree=0.9, \n",
    ")"
   ]
  },
  {
   "cell_type": "code",
   "execution_count": 54,
   "metadata": {},
   "outputs": [
    {
     "data": {
      "text/plain": [
       "XGBRegressor(base_score=0.5, booster='gbtree', colsample_bylevel=1,\n",
       "             colsample_bynode=1, colsample_bytree=0.9, gamma=0, gpu_id=-1,\n",
       "             importance_type='gain', interaction_constraints='',\n",
       "             learning_rate=0.2, max_delta_step=0, max_depth=6,\n",
       "             min_child_weight=1, missing=nan, monotone_constraints='()',\n",
       "             n_estimators=500, n_jobs=8, num_parallel_tree=1, random_state=0,\n",
       "             reg_alpha=0, reg_lambda=1, scale_pos_weight=1, subsample=0.8,\n",
       "             tree_method='exact', validate_parameters=1, verbosity=None)"
      ]
     },
     "execution_count": 54,
     "metadata": {},
     "output_type": "execute_result"
    }
   ],
   "source": [
    "model_final.fit(x_train, y_train)"
   ]
  },
  {
   "cell_type": "code",
   "execution_count": 55,
   "metadata": {},
   "outputs": [],
   "source": [
    "prediction = model_final.predict(x_te)\n",
    "df_test[\"1\"] = prediction"
   ]
  },
  {
   "cell_type": "code",
   "execution_count": 56,
   "metadata": {},
   "outputs": [],
   "source": [
    "a = df_test[[\"row_id\", \"1\"]].rename(columns={\"row_id\": \"ID\"})"
   ]
  },
  {
   "cell_type": "code",
   "execution_count": 57,
   "metadata": {},
   "outputs": [
    {
     "data": {
      "text/html": [
       "<div>\n",
       "<style scoped>\n",
       "    .dataframe tbody tr th:only-of-type {\n",
       "        vertical-align: middle;\n",
       "    }\n",
       "\n",
       "    .dataframe tbody tr th {\n",
       "        vertical-align: top;\n",
       "    }\n",
       "\n",
       "    .dataframe thead th {\n",
       "        text-align: right;\n",
       "    }\n",
       "</style>\n",
       "<table border=\"1\" class=\"dataframe\">\n",
       "  <thead>\n",
       "    <tr style=\"text-align: right;\">\n",
       "      <th></th>\n",
       "      <th>ID</th>\n",
       "      <th>1</th>\n",
       "    </tr>\n",
       "  </thead>\n",
       "  <tbody>\n",
       "    <tr>\n",
       "      <th>479</th>\n",
       "      <td>480</td>\n",
       "      <td>18.196312</td>\n",
       "    </tr>\n",
       "    <tr>\n",
       "      <th>741</th>\n",
       "      <td>742</td>\n",
       "      <td>30.073889</td>\n",
       "    </tr>\n",
       "    <tr>\n",
       "      <th>742</th>\n",
       "      <td>743</td>\n",
       "      <td>30.287807</td>\n",
       "    </tr>\n",
       "    <tr>\n",
       "      <th>743</th>\n",
       "      <td>744</td>\n",
       "      <td>29.961548</td>\n",
       "    </tr>\n",
       "    <tr>\n",
       "      <th>744</th>\n",
       "      <td>745</td>\n",
       "      <td>20.584095</td>\n",
       "    </tr>\n",
       "    <tr>\n",
       "      <th>...</th>\n",
       "      <td>...</td>\n",
       "      <td>...</td>\n",
       "    </tr>\n",
       "    <tr>\n",
       "      <th>37454</th>\n",
       "      <td>37481</td>\n",
       "      <td>17.257561</td>\n",
       "    </tr>\n",
       "    <tr>\n",
       "      <th>37455</th>\n",
       "      <td>37482</td>\n",
       "      <td>16.873838</td>\n",
       "    </tr>\n",
       "    <tr>\n",
       "      <th>37456</th>\n",
       "      <td>37483</td>\n",
       "      <td>17.569386</td>\n",
       "    </tr>\n",
       "    <tr>\n",
       "      <th>37457</th>\n",
       "      <td>37484</td>\n",
       "      <td>17.358900</td>\n",
       "    </tr>\n",
       "    <tr>\n",
       "      <th>37458</th>\n",
       "      <td>37485</td>\n",
       "      <td>16.931147</td>\n",
       "    </tr>\n",
       "  </tbody>\n",
       "</table>\n",
       "<p>4263 rows × 2 columns</p>\n",
       "</div>"
      ],
      "text/plain": [
       "          ID          1\n",
       "479      480  18.196312\n",
       "741      742  30.073889\n",
       "742      743  30.287807\n",
       "743      744  29.961548\n",
       "744      745  20.584095\n",
       "...      ...        ...\n",
       "37454  37481  17.257561\n",
       "37455  37482  16.873838\n",
       "37456  37483  17.569386\n",
       "37457  37484  17.358900\n",
       "37458  37485  16.931147\n",
       "\n",
       "[4263 rows x 2 columns]"
      ]
     },
     "execution_count": 57,
     "metadata": {},
     "output_type": "execute_result"
    }
   ],
   "source": [
    "a"
   ]
  },
  {
   "cell_type": "code",
   "execution_count": 58,
   "metadata": {},
   "outputs": [],
   "source": [
    "a.to_csv(\"submission_res_0703_3.csv\", index=None)"
   ]
  },
  {
   "cell_type": "markdown",
   "metadata": {},
   "source": [
    "###"
   ]
  },
  {
   "cell_type": "code",
   "execution_count": null,
   "metadata": {},
   "outputs": [],
   "source": [
    "prediction = model.predict(x_te)\n",
    "df_test[\"1\"] = prediction"
   ]
  },
  {
   "cell_type": "code",
   "execution_count": null,
   "metadata": {},
   "outputs": [],
   "source": [
    "a = df_test[[\"row_id\", \"1\"]].rename(columns={\"row_id\": \"ID\"})\n",
    "# df_test[[\"row_id\", \"1\"]].rename(columns={\"row_id\": \"ID\"}).to_csv(\"submission_res.csv\", index=None)"
   ]
  },
  {
   "cell_type": "code",
   "execution_count": null,
   "metadata": {},
   "outputs": [],
   "source": [
    "pd.merge(a, df_submit, on=\"ID\", how=\"outer\").shape"
   ]
  },
  {
   "cell_type": "code",
   "execution_count": null,
   "metadata": {},
   "outputs": [],
   "source": [
    "len(df_submit)"
   ]
  },
  {
   "cell_type": "code",
   "execution_count": null,
   "metadata": {},
   "outputs": [],
   "source": [
    "# a.to_csv(\"submission_res_0703.csv\", index=None)"
   ]
  },
  {
   "cell_type": "code",
   "execution_count": null,
   "metadata": {},
   "outputs": [],
   "source": [
    "prediction = model.predict(x_val)\n",
    "l, l_all = loss(y_val, prediction, return_losses=True)\n",
    "l"
   ]
  },
  {
   "cell_type": "code",
   "execution_count": null,
   "metadata": {},
   "outputs": [],
   "source": []
  }
 ],
 "metadata": {
  "kernelspec": {
   "display_name": "Python 3",
   "language": "python",
   "name": "python3"
  },
  "language_info": {
   "codemirror_mode": {
    "name": "ipython",
    "version": 3
   },
   "file_extension": ".py",
   "mimetype": "text/x-python",
   "name": "python",
   "nbconvert_exporter": "python",
   "pygments_lexer": "ipython3",
   "version": "3.7.6"
  }
 },
 "nbformat": 4,
 "nbformat_minor": 4
}
